{
 "cells": [
  {
   "cell_type": "code",
   "execution_count": 1,
   "metadata": {},
   "outputs": [],
   "source": [
    "import numpy as np\n",
    "import pandas as pd "
   ]
  },
  {
   "cell_type": "code",
   "execution_count": 64,
   "metadata": {},
   "outputs": [],
   "source": [
    "data = pd.read_excel(\"/home/bennour/Studies/TBS Courses/BO/refinery_data.xlsx\")"
   ]
  },
  {
   "cell_type": "code",
   "execution_count": 65,
   "metadata": {},
   "outputs": [
    {
     "data": {
      "text/html": [
       "<div>\n",
       "<style scoped>\n",
       "    .dataframe tbody tr th:only-of-type {\n",
       "        vertical-align: middle;\n",
       "    }\n",
       "\n",
       "    .dataframe tbody tr th {\n",
       "        vertical-align: top;\n",
       "    }\n",
       "\n",
       "    .dataframe thead th {\n",
       "        text-align: right;\n",
       "    }\n",
       "</style>\n",
       "<table border=\"1\" class=\"dataframe\">\n",
       "  <thead>\n",
       "    <tr style=\"text-align: right;\">\n",
       "      <th></th>\n",
       "      <th>Producer</th>\n",
       "      <th>un_gasoline</th>\n",
       "      <th>fuel_oil</th>\n",
       "      <th>naphta</th>\n",
       "      <th>by_products</th>\n",
       "      <th>refining_cost</th>\n",
       "      <th>purchase_price</th>\n",
       "      <th>max_barrels</th>\n",
       "      <th>min_barrels</th>\n",
       "    </tr>\n",
       "  </thead>\n",
       "  <tbody>\n",
       "    <tr>\n",
       "      <td>0</td>\n",
       "      <td>Nigeria</td>\n",
       "      <td>0.22</td>\n",
       "      <td>0.20</td>\n",
       "      <td>0.05</td>\n",
       "      <td>0.53</td>\n",
       "      <td>4.00</td>\n",
       "      <td>24.0</td>\n",
       "      <td>99999999.0</td>\n",
       "      <td>75000.0</td>\n",
       "    </tr>\n",
       "    <tr>\n",
       "      <td>1</td>\n",
       "      <td>Gabon</td>\n",
       "      <td>0.18</td>\n",
       "      <td>0.22</td>\n",
       "      <td>0.12</td>\n",
       "      <td>0.48</td>\n",
       "      <td>4.25</td>\n",
       "      <td>25.0</td>\n",
       "      <td>200000.0</td>\n",
       "      <td>60000.0</td>\n",
       "    </tr>\n",
       "    <tr>\n",
       "      <td>2</td>\n",
       "      <td>Venzuella</td>\n",
       "      <td>0.25</td>\n",
       "      <td>0.05</td>\n",
       "      <td>0.22</td>\n",
       "      <td>0.48</td>\n",
       "      <td>4.15</td>\n",
       "      <td>22.3</td>\n",
       "      <td>99999999.0</td>\n",
       "      <td>50000.0</td>\n",
       "    </tr>\n",
       "    <tr>\n",
       "      <td>3</td>\n",
       "      <td>Mexico</td>\n",
       "      <td>0.20</td>\n",
       "      <td>0.26</td>\n",
       "      <td>0.14</td>\n",
       "      <td>0.40</td>\n",
       "      <td>4.50</td>\n",
       "      <td>24.2</td>\n",
       "      <td>250000.0</td>\n",
       "      <td>50000.0</td>\n",
       "    </tr>\n",
       "    <tr>\n",
       "      <td>4</td>\n",
       "      <td>demand</td>\n",
       "      <td>200000.00</td>\n",
       "      <td>100000.00</td>\n",
       "      <td>40000.00</td>\n",
       "      <td>0.00</td>\n",
       "      <td>NaN</td>\n",
       "      <td>NaN</td>\n",
       "      <td>NaN</td>\n",
       "      <td>NaN</td>\n",
       "    </tr>\n",
       "    <tr>\n",
       "      <td>5</td>\n",
       "      <td>selling_price</td>\n",
       "      <td>200.00</td>\n",
       "      <td>125.00</td>\n",
       "      <td>310.00</td>\n",
       "      <td>20.00</td>\n",
       "      <td>NaN</td>\n",
       "      <td>NaN</td>\n",
       "      <td>NaN</td>\n",
       "      <td>NaN</td>\n",
       "    </tr>\n",
       "  </tbody>\n",
       "</table>\n",
       "</div>"
      ],
      "text/plain": [
       "        Producer  un_gasoline   fuel_oil    naphta  by_products  \\\n",
       "0        Nigeria         0.22       0.20      0.05         0.53   \n",
       "1          Gabon         0.18       0.22      0.12         0.48   \n",
       "2      Venzuella         0.25       0.05      0.22         0.48   \n",
       "3         Mexico         0.20       0.26      0.14         0.40   \n",
       "4        demand     200000.00  100000.00  40000.00         0.00   \n",
       "5  selling_price       200.00     125.00    310.00        20.00   \n",
       "\n",
       "   refining_cost  purchase_price  max_barrels  min_barrels  \n",
       "0           4.00            24.0   99999999.0      75000.0  \n",
       "1           4.25            25.0     200000.0      60000.0  \n",
       "2           4.15            22.3   99999999.0      50000.0  \n",
       "3           4.50            24.2     250000.0      50000.0  \n",
       "4            NaN             NaN          NaN          NaN  \n",
       "5            NaN             NaN          NaN          NaN  "
      ]
     },
     "execution_count": 65,
     "metadata": {},
     "output_type": "execute_result"
    }
   ],
   "source": [
    "data"
   ]
  },
  {
   "cell_type": "code",
   "execution_count": 66,
   "metadata": {},
   "outputs": [],
   "source": [
    "from pulp import *"
   ]
  },
  {
   "cell_type": "code",
   "execution_count": 67,
   "metadata": {},
   "outputs": [],
   "source": [
    "prob = LpProblem(\"refinery\", LpMaximize)"
   ]
  },
  {
   "cell_type": "code",
   "execution_count": 119,
   "metadata": {},
   "outputs": [],
   "source": [
    "# create a list of producers\n",
    "producers = list(data.Producer[:4])\n",
    "# create a list of by_products \n",
    "products = list(data.iloc[:,1:5])"
   ]
  },
  {
   "cell_type": "code",
   "execution_count": 122,
   "metadata": {},
   "outputs": [],
   "source": [
    "# create a dictionary of refining costs\n",
    "RC = dict(zip(producers, data.refining_cost[:4]))\n",
    "# create a dictionary of purchase price\n",
    "PP = dict(zip(producers, data.purchase_price[:4]))\n",
    "# create a dictionay of selling price \n",
    "SP = dict(zip(products, data.iloc[5, 1:5]))\n",
    "# dictionary for the demands \n",
    "D = dict(zip(products, data.iloc[4, 1:5]))\n",
    "# dictionary for minimum barrels\n",
    "m = dict(zip(producers, data.min_barrels[:4]))\n",
    "# dictionary for maximum barrels\n",
    "M = dict(zip(producers, data.max_barrels[:4]))"
   ]
  },
  {
   "cell_type": "code",
   "execution_count": 138,
   "metadata": {},
   "outputs": [],
   "source": [
    "# create a dictionary of propotions marginal profit per producer\n",
    "prop_nigeria = dict(zip(by_products, data.iloc[0, 1:5]))\n",
    "prop_gabon = dict(zip(by_products, data.iloc[1, 1:5]))\n",
    "prop_venzuella = dict(zip(by_products, data.iloc[2, 1:5]))\n",
    "prop_mexico = dict(zip(by_products, data.iloc[3, 1:5]))\n",
    "\n",
    "# create a dictionary of proportions marginal profit per by_product \n",
    "prop_gas = dict(zip(producers, data.iloc[0:4, 1]))\n",
    "prop_oil = dict(zip(producers, data.iloc[0:4, 2]))\n",
    "prop_naf = dict(zip(producers, data.iloc[0:4, 3]))\n",
    "prop_byp = dict(zip(producers, data.iloc[0:4, 4]))"
   ]
  },
  {
   "cell_type": "code",
   "execution_count": 139,
   "metadata": {},
   "outputs": [],
   "source": [
    "prop = {\n",
    "    'Nigeria': prop_nigeria,\n",
    "    'Gabon': prop_gabon,\n",
    "    'Venzuella': prop_venzuella,\n",
    "    'Mexico': prop_mexico\n",
    "}"
   ]
  },
  {
   "cell_type": "code",
   "execution_count": 145,
   "metadata": {},
   "outputs": [],
   "source": [
    "capacity = 900000"
   ]
  },
  {
   "cell_type": "code",
   "execution_count": 125,
   "metadata": {},
   "outputs": [],
   "source": [
    "x = LpVariable.dicts(\"Producer\", producers, lowBound=0, cat = 'integer')"
   ]
  },
  {
   "cell_type": "code",
   "execution_count": 126,
   "metadata": {},
   "outputs": [
    {
     "name": "stderr",
     "output_type": "stream",
     "text": [
      "/home/bennour/miniconda3/envs/main/lib/python3.7/site-packages/pulp/pulp.py:1348: UserWarning: Overwriting previously set objective.\n",
      "  warnings.warn(\"Overwriting previously set objective.\")\n"
     ]
    }
   ],
   "source": [
    "# main objective function:\n",
    "# the profit after buying, refining, and selling, the barrels from each producer\n",
    "prob += lpSum([x[i]*SP[j]*prop[i][j] - x[i]*RC[i]*PP[i] for i in producers for j in products])"
   ]
  },
  {
   "cell_type": "code",
   "execution_count": 146,
   "metadata": {},
   "outputs": [
    {
     "name": "stderr",
     "output_type": "stream",
     "text": [
      "/home/bennour/miniconda3/envs/main/lib/python3.7/site-packages/pulp/pulp.py:1353: UserWarning: Overwriting previously set objective.\n",
      "  warnings.warn(\"Overwriting previously set objective.\")\n"
     ]
    }
   ],
   "source": [
    "# adding constraints to the prob model\n",
    "\n",
    "prob += lpSum([prop['Nigeria'][j] for j in products]) == 1\n",
    "prob += lpSum([prop['Gabon'][j] for j in products]) == 1\n",
    "prob += lpSum([prop['Venzuella'][j] for j in products]) == 1\n",
    "prob += lpSum([prop['Mexico'][j] for j in products]) == 1\n",
    "prob += lpSum([x[i]*prop[i][j] for i in producers for j in products]) <= {D[j] for j in products} \n",
    "prob += lpSum([x[i] for i in producers]) <= capacity\n",
    "prob += {x[i] for i in producers} >= {m[i] for i in producers}\n",
    "prob += {x[i] for i in producers} <= {M[i] for i in producers}"
   ]
  },
  {
   "cell_type": "code",
   "execution_count": 148,
   "metadata": {},
   "outputs": [
    {
     "data": {
      "text/plain": [
       "'Infeasible'"
      ]
     },
     "execution_count": 148,
     "metadata": {},
     "output_type": "execute_result"
    }
   ],
   "source": [
    "LpStatus[prob.status]"
   ]
  }
 ],
 "metadata": {
  "kernelspec": {
   "display_name": "Python 3",
   "language": "python",
   "name": "python3"
  },
  "language_info": {
   "codemirror_mode": {
    "name": "ipython",
    "version": 3
   },
   "file_extension": ".py",
   "mimetype": "text/x-python",
   "name": "python",
   "nbconvert_exporter": "python",
   "pygments_lexer": "ipython3",
   "version": "3.7.5"
  }
 },
 "nbformat": 4,
 "nbformat_minor": 4
}
