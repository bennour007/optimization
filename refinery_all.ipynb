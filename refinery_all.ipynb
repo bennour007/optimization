{
 "cells": [
  {
   "cell_type": "code",
   "execution_count": null,
   "metadata": {},
   "outputs": [],
   "source": [
    "import os\n",
    "\n",
    "os.chdir(\"/home/bennour/Pywd/\")"
   ]
  },
  {
   "cell_type": "markdown",
   "metadata": {},
   "source": [
    "#### Prepare data for process "
   ]
  },
  {
   "cell_type": "code",
   "execution_count": 2,
   "metadata": {},
   "outputs": [],
   "source": [
    "import numpy as np\n",
    "import pandas as pd"
   ]
  },
  {
   "cell_type": "code",
   "execution_count": 3,
   "metadata": {},
   "outputs": [],
   "source": [
    "# producer's data details\n",
    "data_1 = [\n",
    "    [\"Nig\", 24, 75000, 999999999],\n",
    "    [\"Gab\", 25, 60000, 200000],\n",
    "    [\"Ven\", 22.3, 50000, 999999999],\n",
    "    [\"Mex\", 24.2, 50000, 250000],\n",
    "]\n",
    "prod_data = pd.DataFrame(data_1, columns=[\"producer\", \"price\", \"MIN\", \"MAX\"])"
   ]
  },
  {
   "cell_type": "code",
   "execution_count": 4,
   "metadata": {},
   "outputs": [],
   "source": [
    "# products per barrel for each producer\n",
    "data_2 = [\n",
    "    [\"Nig\", 0.22, 0.2, 0.05, 0.53, 4],\n",
    "    [\"Gab\", 0.18, 0.22, 0.12, 0.48, 4.25],\n",
    "    [\"Ven\", 0.25, 0.05, 0.22, 0.48, 4.15],\n",
    "    [\"Mex\", 0.2, 0.26, 0.14, 0.4, 4.5],\n",
    "]\n",
    "\n",
    "prod_barrel = pd.DataFrame(\n",
    "    data_2,\n",
    "    columns=[\n",
    "        \"producer\",\n",
    "        \"unleaded_gasoline\",\n",
    "        \"fuel_oil\",\n",
    "        \"naphta\",\n",
    "        \"by_products\",\n",
    "        \"refining_cost\",\n",
    "    ],\n",
    ")"
   ]
  },
  {
   "cell_type": "code",
   "execution_count": 5,
   "metadata": {},
   "outputs": [],
   "source": [
    "# demand data for each product\n",
    "data_3 = [\n",
    "    [\"unleaded_gasoline\", 200000, 200],\n",
    "    [\"fuel_oil\", 100000, 125],\n",
    "    [\"naphta\", 40000, 310],\n",
    "    [\"by_products\", 0, 20],\n",
    "]\n",
    "\n",
    "demand_data = pd.DataFrame(data_3, columns=[\"products\", \"demand\", \"price\"])"
   ]
  },
  {
   "cell_type": "markdown",
   "metadata": {},
   "source": [
    "## let's take a look at our data  "
   ]
  },
  {
   "cell_type": "code",
   "execution_count": 6,
   "metadata": {},
   "outputs": [
    {
     "data": {
      "text/html": [
       "<div>\n",
       "<style scoped>\n",
       "    .dataframe tbody tr th:only-of-type {\n",
       "        vertical-align: middle;\n",
       "    }\n",
       "\n",
       "    .dataframe tbody tr th {\n",
       "        vertical-align: top;\n",
       "    }\n",
       "\n",
       "    .dataframe thead th {\n",
       "        text-align: right;\n",
       "    }\n",
       "</style>\n",
       "<table border=\"1\" class=\"dataframe\">\n",
       "  <thead>\n",
       "    <tr style=\"text-align: right;\">\n",
       "      <th></th>\n",
       "      <th>producer</th>\n",
       "      <th>price</th>\n",
       "      <th>MIN</th>\n",
       "      <th>MAX</th>\n",
       "    </tr>\n",
       "  </thead>\n",
       "  <tbody>\n",
       "    <tr>\n",
       "      <th>0</th>\n",
       "      <td>Nig</td>\n",
       "      <td>24.0</td>\n",
       "      <td>75000</td>\n",
       "      <td>999999999</td>\n",
       "    </tr>\n",
       "    <tr>\n",
       "      <th>1</th>\n",
       "      <td>Gab</td>\n",
       "      <td>25.0</td>\n",
       "      <td>60000</td>\n",
       "      <td>200000</td>\n",
       "    </tr>\n",
       "    <tr>\n",
       "      <th>2</th>\n",
       "      <td>Ven</td>\n",
       "      <td>22.3</td>\n",
       "      <td>50000</td>\n",
       "      <td>999999999</td>\n",
       "    </tr>\n",
       "    <tr>\n",
       "      <th>3</th>\n",
       "      <td>Mex</td>\n",
       "      <td>24.2</td>\n",
       "      <td>50000</td>\n",
       "      <td>250000</td>\n",
       "    </tr>\n",
       "  </tbody>\n",
       "</table>\n",
       "</div>"
      ],
      "text/plain": [
       "  producer  price    MIN        MAX\n",
       "0      Nig   24.0  75000  999999999\n",
       "1      Gab   25.0  60000     200000\n",
       "2      Ven   22.3  50000  999999999\n",
       "3      Mex   24.2  50000     250000"
      ]
     },
     "execution_count": 6,
     "metadata": {},
     "output_type": "execute_result"
    }
   ],
   "source": [
    "prod_data"
   ]
  },
  {
   "cell_type": "code",
   "execution_count": 7,
   "metadata": {},
   "outputs": [
    {
     "data": {
      "text/html": [
       "<div>\n",
       "<style scoped>\n",
       "    .dataframe tbody tr th:only-of-type {\n",
       "        vertical-align: middle;\n",
       "    }\n",
       "\n",
       "    .dataframe tbody tr th {\n",
       "        vertical-align: top;\n",
       "    }\n",
       "\n",
       "    .dataframe thead th {\n",
       "        text-align: right;\n",
       "    }\n",
       "</style>\n",
       "<table border=\"1\" class=\"dataframe\">\n",
       "  <thead>\n",
       "    <tr style=\"text-align: right;\">\n",
       "      <th></th>\n",
       "      <th>producer</th>\n",
       "      <th>unleaded_gasoline</th>\n",
       "      <th>fuel_oil</th>\n",
       "      <th>naphta</th>\n",
       "      <th>by_products</th>\n",
       "      <th>refining_cost</th>\n",
       "    </tr>\n",
       "  </thead>\n",
       "  <tbody>\n",
       "    <tr>\n",
       "      <th>0</th>\n",
       "      <td>Nig</td>\n",
       "      <td>0.22</td>\n",
       "      <td>0.20</td>\n",
       "      <td>0.05</td>\n",
       "      <td>0.53</td>\n",
       "      <td>4.00</td>\n",
       "    </tr>\n",
       "    <tr>\n",
       "      <th>1</th>\n",
       "      <td>Gab</td>\n",
       "      <td>0.18</td>\n",
       "      <td>0.22</td>\n",
       "      <td>0.12</td>\n",
       "      <td>0.48</td>\n",
       "      <td>4.25</td>\n",
       "    </tr>\n",
       "    <tr>\n",
       "      <th>2</th>\n",
       "      <td>Ven</td>\n",
       "      <td>0.25</td>\n",
       "      <td>0.05</td>\n",
       "      <td>0.22</td>\n",
       "      <td>0.48</td>\n",
       "      <td>4.15</td>\n",
       "    </tr>\n",
       "    <tr>\n",
       "      <th>3</th>\n",
       "      <td>Mex</td>\n",
       "      <td>0.20</td>\n",
       "      <td>0.26</td>\n",
       "      <td>0.14</td>\n",
       "      <td>0.40</td>\n",
       "      <td>4.50</td>\n",
       "    </tr>\n",
       "  </tbody>\n",
       "</table>\n",
       "</div>"
      ],
      "text/plain": [
       "  producer  unleaded_gasoline  fuel_oil  naphta  by_products  refining_cost\n",
       "0      Nig               0.22      0.20    0.05         0.53           4.00\n",
       "1      Gab               0.18      0.22    0.12         0.48           4.25\n",
       "2      Ven               0.25      0.05    0.22         0.48           4.15\n",
       "3      Mex               0.20      0.26    0.14         0.40           4.50"
      ]
     },
     "execution_count": 7,
     "metadata": {},
     "output_type": "execute_result"
    }
   ],
   "source": [
    "prod_barrel"
   ]
  },
  {
   "cell_type": "code",
   "execution_count": 8,
   "metadata": {},
   "outputs": [
    {
     "data": {
      "text/html": [
       "<div>\n",
       "<style scoped>\n",
       "    .dataframe tbody tr th:only-of-type {\n",
       "        vertical-align: middle;\n",
       "    }\n",
       "\n",
       "    .dataframe tbody tr th {\n",
       "        vertical-align: top;\n",
       "    }\n",
       "\n",
       "    .dataframe thead th {\n",
       "        text-align: right;\n",
       "    }\n",
       "</style>\n",
       "<table border=\"1\" class=\"dataframe\">\n",
       "  <thead>\n",
       "    <tr style=\"text-align: right;\">\n",
       "      <th></th>\n",
       "      <th>products</th>\n",
       "      <th>demand</th>\n",
       "      <th>price</th>\n",
       "    </tr>\n",
       "  </thead>\n",
       "  <tbody>\n",
       "    <tr>\n",
       "      <th>0</th>\n",
       "      <td>unleaded_gasoline</td>\n",
       "      <td>200000</td>\n",
       "      <td>200</td>\n",
       "    </tr>\n",
       "    <tr>\n",
       "      <th>1</th>\n",
       "      <td>fuel_oil</td>\n",
       "      <td>100000</td>\n",
       "      <td>125</td>\n",
       "    </tr>\n",
       "    <tr>\n",
       "      <th>2</th>\n",
       "      <td>naphta</td>\n",
       "      <td>40000</td>\n",
       "      <td>310</td>\n",
       "    </tr>\n",
       "    <tr>\n",
       "      <th>3</th>\n",
       "      <td>by_products</td>\n",
       "      <td>0</td>\n",
       "      <td>20</td>\n",
       "    </tr>\n",
       "  </tbody>\n",
       "</table>\n",
       "</div>"
      ],
      "text/plain": [
       "            products  demand  price\n",
       "0  unleaded_gasoline  200000    200\n",
       "1           fuel_oil  100000    125\n",
       "2             naphta   40000    310\n",
       "3        by_products       0     20"
      ]
     },
     "execution_count": 8,
     "metadata": {},
     "output_type": "execute_result"
    }
   ],
   "source": [
    "demand_data"
   ]
  },
  {
   "cell_type": "code",
   "execution_count": 9,
   "metadata": {},
   "outputs": [],
   "source": [
    "# create a list of producers\n",
    "producers = prod_barrel.producer\n",
    "# create a list of products\n",
    "products = demand_data.products"
   ]
  },
  {
   "cell_type": "code",
   "execution_count": 10,
   "metadata": {},
   "outputs": [],
   "source": [
    "# create a dictionary of propotions marginal profit per producer\n",
    "p_nig = dict(zip(products, prod_barrel.iloc[0, 1:5]))\n",
    "p_gab = dict(zip(products, prod_barrel.iloc[1, 1:5]))\n",
    "p_ven = dict(zip(products, prod_barrel.iloc[2, 1:5]))\n",
    "p_mex = dict(zip(products, prod_barrel.iloc[3, 1:5]))\n",
    "\n",
    "# create a dictionary of proportions marginal profit per product\n",
    "p_gas = dict(zip(producers, prod_barrel.iloc[0, 1:5]))\n",
    "p_oil = dict(zip(producers, prod_barrel.iloc[1, 1:5]))\n",
    "p_naf = dict(zip(producers, prod_barrel.iloc[2, 1:5]))\n",
    "p_byp = dict(zip(producers, prod_barrel.iloc[3, 1:5]))"
   ]
  },
  {
   "cell_type": "code",
   "execution_count": 11,
   "metadata": {},
   "outputs": [],
   "source": [
    "from pulp import *"
   ]
  },
  {
   "cell_type": "markdown",
   "metadata": {},
   "source": [
    "Our objective is to maximize the profit of the refinery by optimizing the number of barrels of each producer. \n",
    "let's define \n",
    "\n",
    "$i \\in I$ where $I = \\{1, 2, 3, 4\\}$ respectively denoting Nig, Gab, Ven, Mex.\n",
    "\n",
    "$j \\in J$ where $J = \\{1, 2, 3, 4\\}$ respectively denoting Gasoline, fuel, naphta, and other by products"
   ]
  },
  {
   "cell_type": "markdown",
   "metadata": {},
   "source": [
    "Let's define the profit function, on which we will build our objective function and solve the problem:\n",
    "\n",
    "#### *parameters:*\n",
    "The refeniery's revenue is the ammount of refined products barrels sold, this depends on the proportion of each product by the producer\n",
    "Let's define: \n",
    "\n",
    "$P_{ij}$ : proportion of product $j$ if the barrel is from producer $i$.\n",
    "\n",
    "$SP_j$ : selling price of a barrel of product $j$.\n",
    "\n",
    "$RC_i$ : refining cost if the barrel is from producer $i$.\n",
    "\n",
    "$PP_i$ : purchase price if the barrel is from producer $i$.\n",
    "\n",
    "$m_i$ : the minimun number of barrels to purchase from $i$.\n",
    "\n",
    "$M_i$ : the maximum number of barrels to purchase from $i$.\n",
    "\n",
    "$D_j$ : the minimum demand of product $j$.\n",
    "\n",
    "#### *decicion variable*\n",
    "\n",
    "$x_i$ :The number of barrels from producer $i$"
   ]
  },
  {
   "cell_type": "markdown",
   "metadata": {},
   "source": [
    "### Profit:\n",
    "The money that we are hoping to maximize is coming from the selling of the refined product in barrels.\n",
    "This ammount sold is depending on the number of barrels from each producer and the proportion included of each product to refine times the price:\n",
    "\n",
    "$\\sum_{i \\in I}\\sum_{j \\in J}x_iP_{ij}SP_j$"
   ]
  },
  {
   "cell_type": "markdown",
   "metadata": {},
   "source": [
    "### Cost:\n",
    "\n",
    "The cost that the refinery takes is dependent on:\n",
    "the purchase price of the producer $i$ barrel \n",
    "the refining cost of each of barrel per producer.\n",
    "\n",
    "$\\sum_{i \\in I} x_i(PP_i + RC_i)$"
   ]
  },
  {
   "cell_type": "markdown",
   "metadata": {},
   "source": [
    "this gives us that our objective function is: \n",
    "\n",
    "$Max_x \\sum_{i \\in I}\\sum_{j \\in J}x_iP_{ij}SP_j - x_i(PP_i + RC_i)$"
   ]
  },
  {
   "cell_type": "code",
   "execution_count": 12,
   "metadata": {},
   "outputs": [],
   "source": [
    "# define the problem\n",
    "prob = LpProblem(\"refinery\", LpMaximize)"
   ]
  },
  {
   "cell_type": "code",
   "execution_count": 13,
   "metadata": {},
   "outputs": [],
   "source": [
    "X = ['Nig','Gab', 'Ven', 'Mex']\n",
    "PP = dict(zip(producers, prod_data.price))\n",
    "RC = dict(zip(producers, prod_barrel.refining_cost))\n",
    "SP = dict(zip(products, demand_data.price))\n",
    "pm = dict(zip(producers, prod_data.MIN))\n",
    "pM = dict(zip(producers, prod_data.MAX))\n",
    "D = dict(zip(products, demand_data.demand))\n",
    "C = 900000\n",
    "P = {\n",
    "    \"Nig\": p_nig,\n",
    "    \"Gab\": p_gab,\n",
    "    \"Ven\": p_ven,\n",
    "    \"Mex\": p_mex,\n",
    "}"
   ]
  },
  {
   "cell_type": "code",
   "execution_count": 14,
   "metadata": {},
   "outputs": [],
   "source": [
    "# define the variable\n",
    "x = LpVariable.dicts(name=\"x\",\n",
    "                     lowBound = 0,\n",
    "                     indexs = X,\n",
    "                     cat = \"Integer\")"
   ]
  },
  {
   "cell_type": "code",
   "execution_count": 15,
   "metadata": {},
   "outputs": [],
   "source": [
    "# encode obj function\n",
    "prob += lpSum([[P[i][j] * SP[j] * x[i] - x[i] * (PP[i] + RC[i]) for j in products]for i in producers])"
   ]
  },
  {
   "cell_type": "code",
   "execution_count": 16,
   "metadata": {},
   "outputs": [],
   "source": [
    "# encode constraints\n",
    "prob += lpSum(x) <= C\n",
    "for i in producers:\n",
    "    prob += x[i] <= pM[i]\n",
    "for i in producers:\n",
    "    prob += x[i] >= pm[i]\n",
    "for j in products:\n",
    "        prob += lpSum([P[i][j]*x[i] for i in producers]) >= D[j]"
   ]
  },
  {
   "cell_type": "code",
   "execution_count": 17,
   "metadata": {},
   "outputs": [
    {
     "data": {
      "text/plain": [
       "refinery:\n",
       "MAXIMIZE\n",
       "-6.700000000000003*x_Gab + 9.100000000000009*x_Mex + -16.9*x_Nig + 28.249999999999993*x_Ven + 0.0\n",
       "SUBJECT TO\n",
       "_C1: x_Gab + x_Mex + x_Nig + x_Ven <= 900000\n",
       "\n",
       "_C2: x_Nig <= 999999999\n",
       "\n",
       "_C3: x_Gab <= 200000\n",
       "\n",
       "_C4: x_Ven <= 999999999\n",
       "\n",
       "_C5: x_Mex <= 250000\n",
       "\n",
       "_C6: x_Nig >= 75000\n",
       "\n",
       "_C7: x_Gab >= 60000\n",
       "\n",
       "_C8: x_Ven >= 50000\n",
       "\n",
       "_C9: x_Mex >= 50000\n",
       "\n",
       "_C10: 0.18 x_Gab + 0.2 x_Mex + 0.22 x_Nig + 0.25 x_Ven >= 200000\n",
       "\n",
       "_C11: 0.22 x_Gab + 0.26 x_Mex + 0.2 x_Nig + 0.05 x_Ven >= 100000\n",
       "\n",
       "_C12: 0.12 x_Gab + 0.14 x_Mex + 0.05 x_Nig + 0.22 x_Ven >= 40000\n",
       "\n",
       "_C13: 0.48 x_Gab + 0.4 x_Mex + 0.53 x_Nig + 0.48 x_Ven >= 0\n",
       "\n",
       "VARIABLES\n",
       "0 <= x_Gab Integer\n",
       "0 <= x_Mex Integer\n",
       "0 <= x_Nig Integer\n",
       "0 <= x_Ven Integer"
      ]
     },
     "execution_count": 17,
     "metadata": {},
     "output_type": "execute_result"
    }
   ],
   "source": [
    "# the problem formulation\n",
    "prob"
   ]
  },
  {
   "cell_type": "code",
   "execution_count": 23,
   "metadata": {},
   "outputs": [
    {
     "name": "stdout",
     "output_type": "stream",
     "text": [
      "CPXPARAM_Read_DataCheck                          1\n",
      "Tried aggregator 1 time.\n",
      "MIP Presolve eliminated 10 rows and 0 columns.\n",
      "MIP Presolve modified 15 coefficients.\n",
      "Reduced MIP has 3 rows, 4 columns, and 10 nonzeros.\n",
      "Reduced MIP has 0 binaries, 4 generals, 0 SOSs, and 0 indicators.\n",
      "Presolve time = 0.01 sec. (0.01 ticks)\n",
      "Found incumbent of value -5171000.000000 after 0.03 sec. (0.04 ticks)\n",
      "Tried aggregator 1 time.\n",
      "Reduced MIP has 3 rows, 4 columns, and 10 nonzeros.\n",
      "Reduced MIP has 0 binaries, 4 generals, 0 SOSs, and 0 indicators.\n",
      "Presolve time = 0.00 sec. (0.01 ticks)\n",
      "MIP emphasis: balance optimality and feasibility.\n",
      "MIP search method: dynamic search.\n",
      "Parallel mode: deterministic, using up to 4 threads.\n",
      "Root relaxation solution time = 0.00 sec. (0.00 ticks)\n",
      "\n",
      "        Nodes                                         Cuts/\n",
      "   Node  Left     Objective  IInf  Best Integer    Best Bound    ItCnt     Gap\n",
      "\n",
      "*     0+    0                     -5171000.0000   2.08042e+07           502.33%\n",
      "      0     0   1.68823e+07     2 -5171000.0000   1.68823e+07        1  426.48%\n",
      "*     0+    0                       1.68823e+07   1.68823e+07             0.00%\n",
      "\n",
      "Root node processing (before b&c):\n",
      "  Real time             =    0.10 sec. (0.07 ticks)\n",
      "Parallel b&c, 4 threads:\n",
      "  Real time             =    0.00 sec. (0.00 ticks)\n",
      "  Sync time (average)   =    0.00 sec.\n",
      "  Wait time (average)   =    0.00 sec.\n",
      "                          ------------\n",
      "Total (root+branch&cut) =    0.10 sec. (0.07 ticks)\n",
      "Cplex status= 102\n"
     ]
    },
    {
     "data": {
      "text/plain": [
       "1"
      ]
     },
     "execution_count": 23,
     "metadata": {},
     "output_type": "execute_result"
    }
   ],
   "source": [
    "import cplex\n",
    "prob.solve(CPLEX_PY())"
   ]
  },
  {
   "cell_type": "code",
   "execution_count": 26,
   "metadata": {},
   "outputs": [
    {
     "data": {
      "text/plain": [
       "16882307.7"
      ]
     },
     "execution_count": 26,
     "metadata": {},
     "output_type": "execute_result"
    }
   ],
   "source": [
    "pulp.LpStatus[prob.status]\n",
    "pulp.value(prob.objective)"
   ]
  },
  {
   "cell_type": "code",
   "execution_count": 43,
   "metadata": {},
   "outputs": [],
   "source": [
    "varsdict = {}\n",
    "for v in prob.variables():\n",
    "    varsdict[v.name] = v.varValue"
   ]
  },
  {
   "cell_type": "code",
   "execution_count": 44,
   "metadata": {},
   "outputs": [
    {
     "data": {
      "text/plain": [
       "{'x_Gab': 60000.0, 'x_Mex': 159762.0, 'x_Nig': 75000.0, 'x_Ven': 605238.0}"
      ]
     },
     "execution_count": 44,
     "metadata": {},
     "output_type": "execute_result"
    }
   ],
   "source": [
    "varsdict"
   ]
  },
  {
   "cell_type": "code",
   "execution_count": null,
   "metadata": {},
   "outputs": [],
   "source": []
  }
 ],
 "metadata": {
  "kernelspec": {
   "display_name": "Python 3",
   "language": "python",
   "name": "python3"
  },
  "language_info": {
   "codemirror_mode": {
    "name": "ipython",
    "version": 3
   },
   "file_extension": ".py",
   "mimetype": "text/x-python",
   "name": "python",
   "nbconvert_exporter": "python",
   "pygments_lexer": "ipython3",
   "version": "3.7.5"
  }
 },
 "nbformat": 4,
 "nbformat_minor": 4
}
